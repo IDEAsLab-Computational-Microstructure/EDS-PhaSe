{
 "cells": [
  {
   "cell_type": "code",
   "execution_count": 1,
   "metadata": {},
   "outputs": [],
   "source": [
    "import cv2\n",
    "import numpy as np\n",
    "import pandas as pd\n",
    "from matplotlib import pyplot as plt\n",
    "\n",
    "import EDS_PhaSe_functions as EDS_PhaSe\n",
    "import gb_mask_functions as GB_MASK\n",
    "\n",
    "import os\n",
    "\n",
    "SEP = os.sep"
   ]
  },
  {
   "cell_type": "code",
   "execution_count": 2,
   "metadata": {},
   "outputs": [],
   "source": [
    "# INPUTS REQUIRED\n",
    "sample = \"\" # sample name; directory of same name must be in 'sample-data'\n",
    "max_px = 20 # Maximum no. of pixels that will be analyzed around a gb location\n"
   ]
  },
  {
   "cell_type": "code",
   "execution_count": null,
   "metadata": {},
   "outputs": [],
   "source": [
    "dict_EDS_PhaSe, _ = EDS_PhaSe.load_EDS_PhaSe_cache(sample)\n",
    "dict_px_length = dict_EDS_PhaSe[\"info\"][\"px_length\"]\n",
    "ms_raw = dict_EDS_PhaSe[\"ms\"][\"se\"]"
   ]
  },
  {
   "cell_type": "code",
   "execution_count": null,
   "metadata": {},
   "outputs": [],
   "source": [
    "GB_MASK.create_fills_and_masks_around_gb(sample, max_px=max_px)"
   ]
  },
  {
   "cell_type": "code",
   "execution_count": 4,
   "metadata": {},
   "outputs": [],
   "source": [
    "dict_gb_fills, dict_gb_masks = GB_MASK.load_gb_fills_and_masks(sample)"
   ]
  },
  {
   "cell_type": "code",
   "execution_count": 5,
   "metadata": {},
   "outputs": [],
   "source": [
    "el_comp_from_gb_at_percent = GB_MASK.get_comp_on_gb_masks(sample, dict_gb_masks, dict_px_length, comp_type=\"at_percent\", save=True)\n",
    "el_comp_from_gb_wt_percent = GB_MASK.get_comp_on_gb_masks(sample, dict_gb_masks, dict_px_length, comp_type=\"wt_percent\", save=True)\n"
   ]
  },
  {
   "cell_type": "code",
   "execution_count": null,
   "metadata": {},
   "outputs": [],
   "source": [
    "px_max_to_plot = 19\n",
    "\n",
    "plt.figure(figsize=(15,15))\n",
    "plt.imshow(ms_raw)\n",
    "\n",
    "px_value = np.arange(px_max_to_plot+1, -1, -1)\n",
    "for px in px_value:\n",
    "    px_fill_data = dict_gb_fills[\"%s-px\"%(px)]\n",
    "    px_fill_data[np.where(px_fill_data==0)] = np.nan\n",
    "    if px == 0:\n",
    "        alpha_val = 1\n",
    "    else:\n",
    "        alpha_val = 0.02\n",
    "    plt.imshow(px_fill_data, cmap=\"bwr\", alpha=alpha_val, interpolation=\"none\")"
   ]
  },
  {
   "cell_type": "code",
   "execution_count": null,
   "metadata": {},
   "outputs": [],
   "source": []
  }
 ],
 "metadata": {
  "kernelspec": {
   "display_name": "base",
   "language": "python",
   "name": "python3"
  },
  "language_info": {
   "codemirror_mode": {
    "name": "ipython",
    "version": 3
   },
   "file_extension": ".py",
   "mimetype": "text/x-python",
   "name": "python",
   "nbconvert_exporter": "python",
   "pygments_lexer": "ipython3",
   "version": "3.12.2"
  }
 },
 "nbformat": 4,
 "nbformat_minor": 2
}
