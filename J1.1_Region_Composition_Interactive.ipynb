{
 "cells": [
  {
   "cell_type": "code",
   "execution_count": 1,
   "id": "3e4f1ec4-0735-421d-950f-2888d4d7dc94",
   "metadata": {},
   "outputs": [],
   "source": [
    "import EDS_PhaSe_functions as EDS_PhaSe"
   ]
  },
  {
   "cell_type": "code",
   "execution_count": 2,
   "id": "f1ec7d89-6bcd-4ff9-9f98-4eed99310333",
   "metadata": {},
   "outputs": [
    {
     "data": {
      "application/vnd.jupyter.widget-view+json": {
       "model_id": "388b433e88a34cf7b4cb9aa403436bbf",
       "version_major": 2,
       "version_minor": 0
      },
      "text/plain": [
       "RadioButtons(description='Use Cache / Do new calculation ?', options=('LOAD CACHE IF AVAILABLE', 'RESET & CALC…"
      ]
     },
     "metadata": {},
     "output_type": "display_data"
    },
    {
     "data": {
      "application/vnd.jupyter.widget-view+json": {
       "model_id": "147332ed138844d0a7de9f53186c962d",
       "version_major": 2,
       "version_minor": 0
      },
      "text/plain": [
       "Dropdown(description='Sample', options=('1_AlCoCrFeNi_MA-SPS-900C', '2_Haynes282_eds-images', '3_Haynes282_eds…"
      ]
     },
     "metadata": {},
     "output_type": "display_data"
    },
    {
     "data": {
      "application/vnd.jupyter.widget-view+json": {
       "model_id": "5055508543044408b1f7775f8e1c0ba9",
       "version_major": 2,
       "version_minor": 0
      },
      "text/plain": [
       "Button(description='Analyze EDS Data', style=ButtonStyle())"
      ]
     },
     "metadata": {},
     "output_type": "display_data"
    },
    {
     "data": {
      "application/vnd.jupyter.widget-view+json": {
       "model_id": "dbf9e1d70f3b4f3093bf5fb814146858",
       "version_major": 2,
       "version_minor": 0
      },
      "text/plain": [
       "Output()"
      ]
     },
     "metadata": {},
     "output_type": "display_data"
    }
   ],
   "source": [
    "EDS_PhaSe.run_interactive_region_composition()"
   ]
  },
  {
   "cell_type": "code",
   "execution_count": null,
   "id": "835eb532-d537-408f-b68e-2649292ce706",
   "metadata": {},
   "outputs": [],
   "source": []
  }
 ],
 "metadata": {
  "kernelspec": {
   "display_name": "Python 3 (ipykernel)",
   "language": "python",
   "name": "python3"
  },
  "language_info": {
   "codemirror_mode": {
    "name": "ipython",
    "version": 3
   },
   "file_extension": ".py",
   "mimetype": "text/x-python",
   "name": "python",
   "nbconvert_exporter": "python",
   "pygments_lexer": "ipython3",
   "version": "3.10.2"
  }
 },
 "nbformat": 4,
 "nbformat_minor": 5
}
