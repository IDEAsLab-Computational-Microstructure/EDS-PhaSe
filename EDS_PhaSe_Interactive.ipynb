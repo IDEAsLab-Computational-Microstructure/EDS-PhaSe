{
 "cells": [
  {
   "cell_type": "code",
   "execution_count": 1,
   "id": "8ffec107-38a3-485e-bfc8-d9c5fd26147e",
   "metadata": {},
   "outputs": [],
   "source": [
    "import EDS_PhaSe_functions as EDS_PhaSe"
   ]
  },
  {
   "cell_type": "code",
   "execution_count": 3,
   "id": "ae53cc6c-09c2-459e-8039-63b9835b8081",
   "metadata": {},
   "outputs": [
    {
     "data": {
      "application/vnd.jupyter.widget-view+json": {
       "model_id": "9af4ca28f1b14142950af697e826335f",
       "version_major": 2,
       "version_minor": 0
      },
      "text/plain": [
       "interactive(children=(Dropdown(description='Sample', options=('1_AlCoCrFeNi_MA-SPS-900C', '2_Haynes282_eds-ima…"
      ]
     },
     "metadata": {},
     "output_type": "display_data"
    },
    {
     "data": {
      "application/vnd.jupyter.widget-view+json": {
       "model_id": "59f32e7c27134462aa84bdd77b761431",
       "version_major": 2,
       "version_minor": 0
      },
      "text/plain": [
       "Button(description='Save Crop Images', style=ButtonStyle())"
      ]
     },
     "metadata": {},
     "output_type": "display_data"
    },
    {
     "data": {
      "application/vnd.jupyter.widget-view+json": {
       "model_id": "8389a397d85e44ddb601a0cdf3e0ab9a",
       "version_major": 2,
       "version_minor": 0
      },
      "text/plain": [
       "Output()"
      ]
     },
     "metadata": {},
     "output_type": "display_data"
    }
   ],
   "source": [
    "EDS_PhaSe.run_interactive_crop()"
   ]
  },
  {
   "cell_type": "code",
   "execution_count": null,
   "id": "b164d678-a738-46c6-9cd8-a78f85359034",
   "metadata": {},
   "outputs": [],
   "source": [
    "EDS_PhaSe.run_interactive_EDS_PhaSe_analysis()"
   ]
  },
  {
   "cell_type": "code",
   "execution_count": null,
   "id": "7ecc819a-cbdd-4e62-8063-7ba81de74343",
   "metadata": {},
   "outputs": [],
   "source": []
  },
  {
   "cell_type": "code",
   "execution_count": null,
   "id": "b4c07fd7-5f4f-4690-b627-73727db59ba9",
   "metadata": {},
   "outputs": [],
   "source": []
  },
  {
   "cell_type": "code",
   "execution_count": null,
   "id": "b0d08c63-1b98-45b9-9455-d732a961b334",
   "metadata": {},
   "outputs": [],
   "source": []
  }
 ],
 "metadata": {
  "kernelspec": {
   "display_name": "Python 3 (ipykernel)",
   "language": "python",
   "name": "python3"
  },
  "language_info": {
   "codemirror_mode": {
    "name": "ipython",
    "version": 3
   },
   "file_extension": ".py",
   "mimetype": "text/x-python",
   "name": "python",
   "nbconvert_exporter": "python",
   "pygments_lexer": "ipython3",
   "version": "3.10.2"
  }
 },
 "nbformat": 4,
 "nbformat_minor": 5
}
